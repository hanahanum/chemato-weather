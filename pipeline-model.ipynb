{
 "cells": [
  {
   "cell_type": "code",
   "execution_count": 1,
   "metadata": {},
   "outputs": [
    {
     "data": {
      "text/plain": [
       "['trained-model/preprocessor.pkl']"
      ]
     },
     "execution_count": 1,
     "metadata": {},
     "output_type": "execute_result"
    }
   ],
   "source": [
    "# from sklearn.compose import ColumnTransformer\n",
    "from sklearn.preprocessing import StandardScaler\n",
    "import pandas as pd\n",
    "import joblib\n",
    "\n",
    "# Sample data to fit the preprocessor\n",
    "sh = pd.read_excel(\"D:\\DATA\\College\\SMT_8\\DATA\\data800_13-07.xlsx\")\n",
    "data = sh.copy()\n",
    "data = data.dropna()\n",
    "data = data.drop(['Time','Date','presentase_lux',\t'lux_score',\t'lux_category', 'temp_score',\t'temp_category', 'humid_score',\t'humid_category','quality_score','quality_category'], axis=1)\n",
    "\n",
    "# Define the preprocessor\n",
    "scaler = StandardScaler()\n",
    "\n",
    "# Fit the preprocessor with the sample data\n",
    "scaler.fit(data)\n",
    "\n",
    "# Save the fitted preprocessor\n",
    "joblib.dump(scaler, 'trained-model/preprocessor.pkl')"
   ]
  }
 ],
 "metadata": {
  "kernelspec": {
   "display_name": "Python 3",
   "language": "python",
   "name": "python3"
  },
  "language_info": {
   "codemirror_mode": {
    "name": "ipython",
    "version": 3
   },
   "file_extension": ".py",
   "mimetype": "text/x-python",
   "name": "python",
   "nbconvert_exporter": "python",
   "pygments_lexer": "ipython3",
   "version": "3.11.1"
  }
 },
 "nbformat": 4,
 "nbformat_minor": 2
}
